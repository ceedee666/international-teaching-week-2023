{
 "cells": [
  {
   "cell_type": "markdown",
   "id": "ea6fb157-819b-4cbc-bc89-23bfbb9ffb0e",
   "metadata": {},
   "source": [
    "# Social interactions and economic outcomes\n",
    "\n",
    "[Chapter 2](https://www.core-econ.org/espp/book/text/02.html) of the [Economy, Society, and Public Policy](https://www.core-econ.org/espp/index.html)\n",
    "introduced game theory as a appraoch to analyse social interactions. In this notebook examples from\n",
    "[chapter 2](https://www.core-econ.org/espp/book/text/02.html) and the correspoding [Doing Economics](https://tinyco.re/3460318)\n",
    "are revisited and analysed using Python. \n",
    "\n",
    "To run this notebook in Google Colab click on the following batch: [![Open In Colab](https://colab.research.google.com/assets/colab-badge.svg)](https://colab.research.google.com/github/ceedee666/international-teaching-week-2023/blob/main/social_interactions.ipynb)\n",
    "\n",
    "## Nashpy\n",
    "\n",
    "- [Nashpy](https://pypi.org/project/nashpy/) is a Python library to analyse two player games\n",
    "- The library is [well documented](https://nashpy.readthedocs.io/en/stable/tutorial/index.html) \n",
    "\n",
    "### Installation\n",
    "\n",
    "- In order to use the library it needs to be installed by executing `pip3 install nashpy`\n",
    "- In an Jupyter Notebook the package can be installed using `!pip3 install nashpy`"
   ]
  },
  {
   "cell_type": "code",
   "execution_count": null,
   "id": "505e8ce3-d059-43d6-98bc-69b5ed95ea56",
   "metadata": {},
   "outputs": [],
   "source": [
    "!pip3 install nashpy"
   ]
  },
  {
   "cell_type": "code",
   "execution_count": null,
   "id": "95014279-2742-42ab-b2dc-7bab8a2e536b",
   "metadata": {},
   "outputs": [],
   "source": []
  }
 ],
 "metadata": {
  "kernelspec": {
   "display_name": "Python 3 (ipykernel)",
   "language": "python",
   "name": "python3"
  },
  "language_info": {
   "codemirror_mode": {
    "name": "ipython",
    "version": 3
   },
   "file_extension": ".py",
   "mimetype": "text/x-python",
   "name": "python",
   "nbconvert_exporter": "python",
   "pygments_lexer": "ipython3",
   "version": "3.11.2"
  }
 },
 "nbformat": 4,
 "nbformat_minor": 5
}
