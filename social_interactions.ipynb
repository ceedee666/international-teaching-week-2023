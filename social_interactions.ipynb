{
 "cells": [
  {
   "attachments": {},
   "cell_type": "markdown",
   "id": "ea6fb157-819b-4cbc-bc89-23bfbb9ffb0e",
   "metadata": {},
   "source": [
    "# Social interactions and economic outcomes\n",
    "\n",
    "[Chapter 2](https://www.core-econ.org/espp/book/text/02.html) of the [Economy, Society, and Public Policy](https://www.core-econ.org/espp/index.html)\n",
    "introduced game theory as a approach to analyze social interactions. In this notebook examples from\n",
    "[chapter 2](https://www.core-econ.org/espp/book/text/02.html) and the corresponding [Doing Economics](https://tinyco.re/3460318)\n",
    "are revisited and analyzed using Python. \n",
    "\n",
    "To run this notebook in Google Colab click on the following batch: [![Open In Colab](https://colab.research.google.com/assets/colab-badge.svg)](https://colab.research.google.com/github/ceedee666/international-teaching-week-2023/blob/main/social_interactions.ipynb)\n",
    "\n",
    "## Nashpy\n",
    "\n",
    "- [Nashpy](https://pypi.org/project/nashpy/) is a Python library to analyze two player games\n",
    "- The library is [well documented](https://nashpy.readthedocs.io/en/stable/tutorial/index.html) \n",
    "\n",
    "### Installation\n",
    "\n",
    "- In order to use the library it needs to be installed by executing `pip3 install nashpy`\n",
    "- In an Jupyter Notebook the library can be installed using `!pip3 install nashpy`"
   ]
  },
  {
   "cell_type": "code",
   "execution_count": null,
   "id": "505e8ce3-d059-43d6-98bc-69b5ed95ea56",
   "metadata": {
    "vscode": {
     "languageId": "python"
    }
   },
   "outputs": [],
   "source": [
    "!pip3 install nashpy"
   ]
  },
  {
   "attachments": {},
   "cell_type": "markdown",
   "id": "de0441c7-27a9-411f-9f14-71034fa0e498",
   "metadata": {},
   "source": [
    "### Importing the library\n",
    "In order to work with `Nashpy` two libraries need to be imported:\n",
    "\n",
    "- `Nashpy`\n",
    "- `Numpy`\n",
    "\n",
    "The cell below performs this import using common name mappings for the libraries."
   ]
  },
  {
   "cell_type": "code",
   "execution_count": null,
   "id": "95014279-2742-42ab-b2dc-7bab8a2e536b",
   "metadata": {
    "tags": [],
    "vscode": {
     "languageId": "python"
    }
   },
   "outputs": [],
   "source": [
    "import nashpy as nash\n",
    "import numpy as np"
   ]
  },
  {
   "attachments": {},
   "cell_type": "markdown",
   "id": "13bc6d4d-eb63-4593-965f-8b45a6f9ac69",
   "metadata": {},
   "source": [
    "## Creating and analyzing a first game\n",
    "\n",
    "The next step is to create a first game using the `Nashpy` library. The first game is the crop game \n",
    "introduced in [chapter 2.4](https://www.core-econ.org/espp/book/text/02.html#24-social-interactions-as-games).\n",
    "Below is the payoff matrix of the game.\n",
    "\n",
    "![First Game](imgs/10_first_game.png)\n",
    "\n",
    "Implementing the game consists of two steps:\n",
    "\n",
    "1. Creating the payoff matrices (as `numpy` arrays)\n",
    "2. Instantiating the game using this matrices\n",
    "\n",
    "This is done in the cell below."
   ]
  },
  {
   "cell_type": "code",
   "execution_count": null,
   "id": "4385c776-e0b3-4910-ae24-804931fb1f61",
   "metadata": {
    "tags": [],
    "vscode": {
     "languageId": "python"
    }
   },
   "outputs": [],
   "source": [
    "anil_payoff = np.array([[1, 2], [4, 3]])\n",
    "bala_payoff = np.array([[3, 2], [4, 1]])\n",
    "\n",
    "crop_game = nash.Game(anil_payoff, bala_payoff)\n",
    "print(crop_game)"
   ]
  },
  {
   "attachments": {},
   "cell_type": "markdown",
   "id": "5140780c",
   "metadata": {},
   "source": [
    "Using the game instance it is now possible to calculate the payoff for different strategies. For example,\n",
    "the following cell calculated the payoff for:\n",
    "\n",
    "- Anil choosing rice \n",
    "- Bala choosing Cassava \n",
    "\n"
   ]
  },
  {
   "cell_type": "code",
   "execution_count": null,
   "id": "72b74e3b-f4da-4647-bc7f-72ac44772b38",
   "metadata": {
    "tags": [],
    "vscode": {
     "languageId": "python"
    }
   },
   "outputs": [],
   "source": [
    "sigma_a = [1, 0]\n",
    "sigma_b = [1, 0]\n",
    "crop_game[sigma_a, sigma_b]"
   ]
  },
  {
   "attachments": {},
   "cell_type": "markdown",
   "id": "119f41fb",
   "metadata": {},
   "source": [
    "Finally, it is also possible to calculate the equilibria of the game. The result are the two strategies:\n",
    "\n",
    "- [0,1]\n",
    "- [1,0]\n",
    "\n",
    "This corresponds to Anil choosing to plant cassava and Bala choosing to plant rice. The result can be used\n",
    "to calculate the expected payoff as well. "
   ]
  },
  {
   "cell_type": "code",
   "execution_count": null,
   "id": "375114db-c76a-4c84-8028-93566a0a906f",
   "metadata": {
    "vscode": {
     "languageId": "python"
    }
   },
   "outputs": [],
   "source": [
    "crop_game_eqs = crop_game.support_enumeration()\n",
    "crop_game_eqs = list(crop_game_eqs)\n",
    "\n",
    "sigma_a = crop_game_eqs[0][0]\n",
    "sigma_b = crop_game_eqs[0][1]\n",
    "\n",
    "crop_game[sigma_a, sigma_b]"
   ]
  },
  {
   "attachments": {},
   "cell_type": "markdown",
   "id": "ffbab57c",
   "metadata": {},
   "source": [
    "## The prisoners’ dilemma\n",
    "After this first introduction in the `Nashpy` library the next step is to try something a little more complex. \n",
    "[Section 2.6](https://www.core-econ.org/espp/book/text/02.html#26-when-self-interest-doesnt-work-the-prisoners-dilemma)\n",
    "introduced different versions pof the prisoners' dilemma. The next step is to solve the prisoners dilemma describes \n",
    "the [Find Out More](https://www.core-econ.org/espp/book/text/02.html#find-out-more-the-prisoners-dilemma) section. \n",
    "\n",
    "Below is the payoff matrix for the two prisoners:\n",
    "\n",
    "![Payoff Matrix of the Prisoners' Dilemma](./imgs/20_prisoners_dilemma.png)\n",
    "\n",
    "### Exercise:\n",
    "1. Solve the prisoners' dilemma described by th payoff matrix above using the `Nashpy` library. \n",
    "2. Discuss the result."
   ]
  },
  {
   "attachments": {},
   "cell_type": "markdown",
   "id": "57338677",
   "metadata": {},
   "source": [
    "## More than Equilibrium\n",
    "\n",
    "Below is different version of the payoff matrix for the crop game. This version is introduced in\n",
    "[Section 2.11](https://www.core-econ.org/espp/book/text/02.html#211-predicting-economic-outcomes-a-nash-equilibrium).\n",
    "In this game two equilibria exists. \n",
    "\n",
    "![Payoff Matrix with Two Equilibria](./imgs/30_crop_game.png)\n",
    "\n",
    "The following cell shows how to calculate the two equilibria."
   ]
  },
  {
   "cell_type": "code",
   "execution_count": null,
   "id": "ff5ddbfb",
   "metadata": {
    "vscode": {
     "languageId": "python"
    }
   },
   "outputs": [],
   "source": [
    "anil_payoff = np.array([[0, 2], [4, 1]])\n",
    "bala_payoff = np.array([[1, 2], [4, 0]])\n",
    "\n",
    "crop_game = nash.Game(anil_payoff, bala_payoff)\n",
    "crop_game_eqs = list(crop_game.support_enumeration())\n",
    "\n",
    "print(f\"In this version of the crop game {len(crop_game_eqs)} equilibria exist:\")\n",
    "print(\n",
    "    f\"{crop_game_eqs[0]} with a payoff of {crop_game[crop_game_eqs[0][0], crop_game_eqs[0][1]]}.\"\n",
    ")\n",
    "print(\n",
    "    f\"{crop_game_eqs[1]} with a payoff of {crop_game[crop_game_eqs[1][0], crop_game_eqs[1][1]]}.\"\n",
    ")"
   ]
  }
 ],
 "metadata": {
  "kernelspec": {
   "display_name": "Python 3 (ipykernel)",
   "language": "python",
   "name": "python3"
  }
 },
 "nbformat": 4,
 "nbformat_minor": 5
}
