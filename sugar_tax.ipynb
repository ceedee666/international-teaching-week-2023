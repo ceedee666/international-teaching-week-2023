{
 "cells": [
  {
   "cell_type": "markdown",
   "metadata": {},
   "source": []
  },
  {
   "cell_type": "code",
   "execution_count": null,
   "metadata": {},
   "outputs": [],
   "source": [
    "!pip3 install openpyxl"
   ]
  },
  {
   "cell_type": "code",
   "execution_count": null,
   "metadata": {},
   "outputs": [],
   "source": [
    "import pandas as pd\n",
    "\n",
    "df = pd.read_excel(\n",
    "    \"./international-teaching-week-2023/data/dataset_sugar_tax.xlsx\", sheet_name=\"Data\"\n",
    ")\n",
    "df"
   ]
  },
  {
   "cell_type": "code",
   "execution_count": null,
   "metadata": {},
   "outputs": [],
   "source": [
    "df[df[\"type\"] == \"TEA\"].boxplot(column=\"price_per_oz\", by=\"product_id\")"
   ]
  },
  {
   "cell_type": "code",
   "execution_count": null,
   "metadata": {},
   "outputs": [],
   "source": [
    "df[\"taxed\"] = df[\"taxed\"].map({0: \"not taxed\", 1: \"taxed\"})\n",
    "df[\"supp\"] = df[\"supp\"].map({0: \"Standard\", 1: \"Supplemental\"})\n",
    "df[\"store_type_str\"] = df[\"store_type\"].map(\n",
    "    {1: \"Large Supermarket\", 2: \"Small Supermarket\", 3: \"Pharmacy\", 4: \"Gas Station\"}\n",
    ")\n",
    "df[\"time\"] = df[\"time\"].replace({\"MAR2015\": \"MAR2016\"}).astype(\"category\")\n",
    "df[\"store_id\"] = df[\"store_id\"].astype(\"category\")\n",
    "df"
   ]
  },
  {
   "cell_type": "code",
   "execution_count": null,
   "metadata": {},
   "outputs": [],
   "source": [
    "num_stores = df[\"store_id\"].nunique()\n",
    "num_products = df[\"product_id\"].nunique()\n",
    "\n",
    "print(f\"Number of unique stores: {num_stores}\")\n",
    "print(f\"Number of unique products: {num_products}\")"
   ]
  },
  {
   "cell_type": "code",
   "execution_count": null,
   "metadata": {},
   "outputs": [],
   "source": [
    "freq_table_store_type = df.pivot_table(\n",
    "    index=[\"store_type_str\"],\n",
    "    columns=\"time\",\n",
    "    values=\"price\",\n",
    "    aggfunc=\"count\",\n",
    "    margins=True,\n",
    ")\n",
    "freq_table_store_type = freq_table_store_type.reindex(\n",
    "    [\"Large Supermarket\", \"Small Supermarket\", \"Pharmacy\", \"Gas Station\", \"All\"],\n",
    "    level=0,\n",
    ")\n",
    "\n",
    "print(freq_table_store_type)"
   ]
  },
  {
   "cell_type": "code",
   "execution_count": null,
   "metadata": {},
   "outputs": [],
   "source": [
    "freq_table_taxed = df.pivot_table(\n",
    "    index=[\"store_type_str\"],\n",
    "    columns=[\"time\", \"taxed\"],\n",
    "    values=\"price\",\n",
    "    aggfunc=\"count\",\n",
    "    margins=True,\n",
    ").reindex(\n",
    "    [\"Large Supermarket\", \"Small Supermarket\", \"Pharmacy\", \"Gas Station\", \"All\"],\n",
    "    level=0,\n",
    ")\n",
    "print(freq_table_taxed)"
   ]
  },
  {
   "cell_type": "code",
   "execution_count": null,
   "metadata": {},
   "outputs": [],
   "source": [
    "freq_table_products = df.pivot_table(\n",
    "    index=[\"type\"], columns=\"time\", values=\"price_per_oz\", aggfunc=\"count\", margins=True\n",
    ")\n",
    "print(freq_table_products)"
   ]
  },
  {
   "cell_type": "code",
   "execution_count": null,
   "metadata": {},
   "outputs": [],
   "source": [
    "fpt = df.pivot_table(\n",
    "    index=[\"store_id\", \"product_id\"], columns=\"time\", values=\"price\", aggfunc=\"count\"\n",
    ")\n",
    "mask = (fpt > 0).all(axis=1)\n",
    "fpt = fpt[mask]\n",
    "print(fpt.head())\n",
    "testdf = df.reset_index()\n",
    "testdf = testdf.set_index([\"store_id\", \"product_id\"])\n",
    "testdf"
   ]
  },
  {
   "cell_type": "code",
   "execution_count": null,
   "metadata": {},
   "outputs": [],
   "source": [
    "testdf = testdf.loc[fpt.index.values]\n",
    "testdf = testdf[testdf[\"supp\"] != \"Supplemental\"]\n",
    "testdf"
   ]
  },
  {
   "cell_type": "code",
   "execution_count": null,
   "metadata": {},
   "outputs": [],
   "source": [
    "testdf = testdf.reset_index()\n",
    "testdf"
   ]
  },
  {
   "cell_type": "code",
   "execution_count": null,
   "metadata": {},
   "outputs": [],
   "source": [
    "testdf[\"product_id\"].nunique()\n",
    "testdf.boxplot(column=\"price_per_oz\", by=\"product_id\")"
   ]
  },
  {
   "cell_type": "code",
   "execution_count": null,
   "metadata": {},
   "outputs": [],
   "source": [
    "new_pivot = testdf.pivot_table(\n",
    "    index=[\"taxed\", \"store_type_str\"],\n",
    "    columns=\"time\",\n",
    "    values=\"price_per_oz\",\n",
    "    aggfunc=\"mean\",\n",
    ").round(3)\n",
    "\n",
    "new_pivot"
   ]
  },
  {
   "cell_type": "code",
   "execution_count": null,
   "metadata": {},
   "outputs": [],
   "source": [
    "new_pivot[\"d1\"] = new_pivot[\"JUN2015\"] - new_pivot[\"DEC2014\"]\n",
    "new_pivot[\"d2\"] = new_pivot[\"MAR2016\"] - new_pivot[\"DEC2014\"]\n",
    "new_pivot"
   ]
  },
  {
   "cell_type": "code",
   "execution_count": null,
   "metadata": {},
   "outputs": [],
   "source": [
    "df123 = new_pivot\n",
    "df123 = df123.reset_index()\n",
    "df123 = df123.pivot(index=\"store_type_str\", columns=\"taxed\", values=\"d1\")\n",
    "df123.plot.bar()"
   ]
  },
  {
   "cell_type": "code",
   "execution_count": null,
   "metadata": {},
   "outputs": [],
   "source": [
    "df123 = new_pivot\n",
    "df123 = df123.reset_index()\n",
    "df123 = df123.pivot(index=\"store_type_str\", columns=\"taxed\", values=\"d2\")\n",
    "df123.plot.bar()"
   ]
  },
  {
   "cell_type": "code",
   "execution_count": null,
   "metadata": {},
   "outputs": [],
   "source": []
  }
 ],
 "metadata": {
  "kernelspec": {
   "display_name": "Python 3 (ipykernel)",
   "language": "python",
   "name": "python3"
  },
  "language_info": {
   "codemirror_mode": {
    "name": "ipython",
    "version": 3
   },
   "file_extension": ".py",
   "mimetype": "text/x-python",
   "name": "python",
   "nbconvert_exporter": "python",
   "pygments_lexer": "ipython3",
   "version": "3.11.2"
  }
 },
 "nbformat": 4,
 "nbformat_minor": 2
}
