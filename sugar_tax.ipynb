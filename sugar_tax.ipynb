{
 "cells": [
  {
   "attachments": {},
   "cell_type": "markdown",
   "metadata": {},
   "source": [
    "# Measuring the effect of a sugar tax\n",
    "\n",
    "[Chapter 3](https://www.core-econ.org/espp/book/text/03.html) of the \n",
    "[Economy, Society, and Public Policy](https://www.core-econ.org/espp/index.html)\n",
    "suggests the project [measuring the effect of a sugar tax](http://www.core-econ.org/doing-economics/book/text/03-01.html) \n",
    "to deepen the knowledge of the topic. This notebooks analyses the data provided in the project using Python. In particular this notebook uses the project to\n",
    "provide a introduction to [pandas](https://pandas.pydata.org/):\n",
    "\n",
    "> a fast, powerful, flexible and easy to use open source data analysis and manipulation tool.\n",
    "\n",
    "To run this notebook in Google Colab click on the following batch: [![Open In Colab](https://colab.research.google.com/assets/colab-badge.svg)](https://colab.research.google.com/github/ceedee666/international-teaching-week-2023/blob/main/sugar_tax.ipynb)\n",
    "\n",
    "The data for this project has already been downloaded and stored in the [dataset_sugar_tax.xlsx](./data/dataset_sugar_tax.xlsx) file located in the [data](./data/) directory. \n",
    "\n",
    "### Installation\n",
    "\n",
    "- Install the required libraries installed by executing `pip3 install pandas openpyxl`\n",
    "- In an Jupyter Notebook the libraries can be installed using `!pip3 install pandas openpzxl`"
   ]
  },
  {
   "cell_type": "code",
   "execution_count": null,
   "metadata": {
    "vscode": {
     "languageId": "python"
    }
   },
   "outputs": [],
   "source": [
    "!pip3 install pandas openpyxl"
   ]
  },
  {
   "attachments": {},
   "cell_type": "markdown",
   "metadata": {},
   "source": [
    "## Loading the dataset\n",
    "\n",
    "In [pandas](https://pandas.pydata.org/) data is stored in\n",
    "[`DataFrame`](https://pandas.pydata.org/docs/reference/api/pandas.DataFrame.html#pandas.DataFrame)s. A \n",
    "[`DataFrame`](https://pandas.pydata.org/docs/reference/api/pandas.DataFrame.html#pandas.DataFrame) represents tabular data\n",
    "like e.g. data from a spreadsheet or a database. \n",
    "\n",
    "The `read_excel` function can be used to read data form MS Excel files into\n",
    "a [`DataFrame`](https://pandas.pydata.org/docs/reference/api/pandas.DataFrame.html#pandas.DataFrame)."
   ]
  },
  {
   "cell_type": "code",
   "execution_count": null,
   "metadata": {
    "vscode": {
     "languageId": "python"
    }
   },
   "outputs": [],
   "source": [
    "import pandas as pd\n",
    "\n",
    "df = pd.read_excel(\n",
    "    \"https://github.com/ceedee666/international-teaching-week-2023/raw/main/data/dataset_sugar_tax.xlsx\",\n",
    "    sheet_name=\"Data\",\n",
    ")"
   ]
  },
  {
   "attachments": {},
   "cell_type": "markdown",
   "metadata": {},
   "source": [
    "A pandas [`DataFrame`](https://pandas.pydata.org/docs/reference/api/pandas.DataFrame.html#pandas.DataFrame) provides different \n",
    "methods for giving an overview of the data. One nice feature of Jupyter notebooks is, that \n",
    "pandas [`DataFrame`](https://pandas.pydata.org/docs/reference/api/pandas.DataFrame.html#pandas.DataFrame) are automatically \n",
    "shown in a readable format. Compare the result of the following two cells."
   ]
  },
  {
   "cell_type": "code",
   "execution_count": null,
   "metadata": {
    "vscode": {
     "languageId": "python"
    }
   },
   "outputs": [],
   "source": [
    "df.head()"
   ]
  },
  {
   "cell_type": "code",
   "execution_count": null,
   "metadata": {
    "vscode": {
     "languageId": "python"
    }
   },
   "outputs": [],
   "source": [
    "print(df.head())"
   ]
  },
  {
   "attachments": {},
   "cell_type": "markdown",
   "metadata": {},
   "source": [
    "It is also possible to show just the content of selected columns or just the entries with as certain value. "
   ]
  },
  {
   "cell_type": "code",
   "execution_count": null,
   "metadata": {
    "vscode": {
     "languageId": "python"
    }
   },
   "outputs": [],
   "source": [
    "df[[\"price_per_oz\", \"price\"]]"
   ]
  },
  {
   "cell_type": "code",
   "execution_count": null,
   "metadata": {
    "vscode": {
     "languageId": "python"
    }
   },
   "outputs": [],
   "source": [
    "df[df[\"store_id\"] == 16]"
   ]
  },
  {
   "attachments": {},
   "cell_type": "markdown",
   "metadata": {},
   "source": [
    "Using plots it is possible to get an overview of the data in the DataFrame. "
   ]
  },
  {
   "cell_type": "code",
   "execution_count": null,
   "metadata": {
    "vscode": {
     "languageId": "python"
    }
   },
   "outputs": [],
   "source": [
    "df[\"price_per_oz\"].plot.hist()"
   ]
  },
  {
   "cell_type": "code",
   "execution_count": null,
   "metadata": {
    "vscode": {
     "languageId": "python"
    }
   },
   "outputs": [],
   "source": [
    "df.plot.scatter(x=\"size\", y=\"price\")"
   ]
  },
  {
   "attachments": {},
   "cell_type": "markdown",
   "metadata": {},
   "source": [
    "The `nunique` method can be used to count the individual values in a column."
   ]
  },
  {
   "cell_type": "code",
   "execution_count": null,
   "metadata": {
    "vscode": {
     "languageId": "python"
    }
   },
   "outputs": [],
   "source": [
    "num_stores = df[\"store_id\"].nunique()\n",
    "num_products = df[\"product_id\"].nunique()\n",
    "\n",
    "print(f\"Number of unique stores: {num_stores}\")\n",
    "print(f\"Number of unique products: {num_products}\")"
   ]
  },
  {
   "attachments": {},
   "cell_type": "markdown",
   "metadata": {},
   "source": [
    "## Updating the DataFrame \n",
    "\n",
    "Most of the data in the DataFrame are numbers. However, some of these numbers represent categorical data. For example,\n",
    "the value `0` in the `taxed`colum represents beverages that have not been taxed while `1` represents taxed beverages. \n",
    "\n",
    "The `map` method can be used to replace the existing values with a textual representation. Note that `map`, like most \n",
    "pandas methods, creates a new DataFrame. The result is used to update the existing values. \n",
    "\n",
    "In addition it is also possible to create new columns. This is done by simply assigning the result to a new column name. "
   ]
  },
  {
   "cell_type": "code",
   "execution_count": null,
   "metadata": {
    "vscode": {
     "languageId": "python"
    }
   },
   "outputs": [],
   "source": [
    "df[\"taxed\"] = df[\"taxed\"].map({0: \"not taxed\", 1: \"taxed\"})\n",
    "df"
   ]
  },
  {
   "attachments": {},
   "cell_type": "markdown",
   "metadata": {},
   "source": [
    "### Exercise 1\n",
    "For the different columns the following mappings exist: \n",
    "\n",
    "- `supp` column: \n",
    "    - `0` represents `Standard`\n",
    "    - `1` represents `Supplemental`\n",
    "- `store_type` column: \n",
    "    - `1` represents `Large Supermarket`\n",
    "    - `2` represents `Small Supermarket`\n",
    "    - `3` represents `Pharmacy`\n",
    "    - `4` represents `Gas Station`\n",
    "\n",
    "Replace the values in the `supp` colum by the textual values. Add a new colum named `store_type_str` containing the \n",
    "textual representation of the `store_type` values. \n",
    "\n",
    "Furthermore, the value `MAR2015` in colum `time` is not correct. The value needs to be changed to `MAR2016`. The `replace` \n",
    "method can be used for this purpose. "
   ]
  },
  {
   "cell_type": "code",
   "execution_count": null,
   "metadata": {
    "vscode": {
     "languageId": "python"
    }
   },
   "outputs": [],
   "source": [
    "# Implement the update here"
   ]
  },
  {
   "attachments": {},
   "cell_type": "markdown",
   "metadata": {},
   "source": [
    "## Comparing the treatment and the control group\n",
    "\n",
    "The goal of this project is to compare two groups before and after introducing the tax:\n",
    "\n",
    "- treatment group: large supermarkets (`store_type = 1`)\n",
    "- control group: pharmacies (`store_type = 3`).\n",
    "\n",
    "A fist step is to summarize the data of treatment and the control group and compare them with respect to the variables of interest. This can be done using the `pivot_table` method. \n",
    "\n",
    "### Creating pivot tables\n",
    "\n",
    "The cell below creates a pivot table `pt_store_type` from the DataFrame `df`. The pivot table uses the `store_type_str` as an index and the `time` as the columns. Each column contains the number of values in the DataFrame. This is done by counting the entries in the `price` column.\n"
   ]
  },
  {
   "cell_type": "code",
   "execution_count": null,
   "metadata": {
    "vscode": {
     "languageId": "python"
    }
   },
   "outputs": [],
   "source": [
    "pt_store_type = df.pivot_table(\n",
    "    index=[\"store_type_str\"],\n",
    "    columns=\"time\",\n",
    "    values=\"price\",\n",
    "    aggfunc=\"count\",\n",
    "    margins=True,\n",
    ")\n",
    "pt_store_type"
   ]
  },
  {
   "attachments": {},
   "cell_type": "markdown",
   "metadata": {},
   "source": [
    "Note that the rows in the resulting pivot table are sorted alphabetically. Sometimes a other sort order is needed. This can be achieved by re-indexing the DataFrame (a pivot table is also \"just\" a DataFrame)."
   ]
  },
  {
   "cell_type": "code",
   "execution_count": null,
   "metadata": {
    "vscode": {
     "languageId": "python"
    }
   },
   "outputs": [],
   "source": [
    "pt_store_type = pt_store_type.reindex(\n",
    "    [\"Large Supermarket\", \"Small Supermarket\", \"Pharmacy\", \"Gas Station\", \"All\"],\n",
    ")\n",
    "\n",
    "pt_store_type"
   ]
  },
  {
   "attachments": {},
   "cell_type": "markdown",
   "metadata": {},
   "source": [
    "It is also possible to use multiple columns in a pivot table. To compare the number of entries for taxed and not taxed beverages depending on the store type the pivot table below can be used."
   ]
  },
  {
   "cell_type": "code",
   "execution_count": null,
   "metadata": {
    "vscode": {
     "languageId": "python"
    }
   },
   "outputs": [],
   "source": [
    "pt_store_taxed = df.pivot_table(\n",
    "    index=[\"store_type_str\"],\n",
    "    columns=[\"time\", \"taxed\"],\n",
    "    values=\"price\",\n",
    "    aggfunc=\"count\",\n",
    "    margins=True,\n",
    ").reindex(\n",
    "    [\"Large Supermarket\", \"Small Supermarket\", \"Pharmacy\", \"Gas Station\", \"All\"],\n",
    ")\n",
    "pt_store_taxed"
   ]
  },
  {
   "attachments": {},
   "cell_type": "markdown",
   "metadata": {},
   "source": [
    "## Exercise 2\n",
    "\n",
    "Create a pivot table that shows for each product type the number of entries in each period. "
   ]
  },
  {
   "cell_type": "code",
   "execution_count": null,
   "metadata": {
    "vscode": {
     "languageId": "python"
    }
   },
   "outputs": [],
   "source": []
  },
  {
   "attachments": {},
   "cell_type": "markdown",
   "metadata": {},
   "source": [
    "## Calculate and compare conditional means\n",
    "\n",
    "Besides counting the number of entries in different groups it is also possible to compare other statistical values. The goal of this project is to compare the mean prices of taxed and untaxed beverages, before and after the tax. In the paper underlying this project the following conditions where applied to the data:\n",
    "\n",
    "- only products that are present in all time periods are included \n",
    "- only non-supplementary products (`supp == 0`) are included.\n",
    "\n",
    "Filtering non-supplementary is quite simple. Pandas provides a nice syntax for selecting only the rows conforming to a certain expression. "
   ]
  },
  {
   "cell_type": "code",
   "execution_count": null,
   "metadata": {
    "vscode": {
     "languageId": "python"
    }
   },
   "outputs": [],
   "source": [
    "df = df[df[\"supp\"] != \"Supplemental\"]\n",
    "df"
   ]
  },
  {
   "attachments": {},
   "cell_type": "markdown",
   "metadata": {},
   "source": [
    "Filtering the products that are present in all time periods is more complex. A simplex expression cannot be used to filter the DataFrame. One approach is to perform the following steps.\n",
    "\n",
    "1. Create a pivot table with the count of all store and product combinations for each time frame.  \n",
    "1. Filter this pivot table to just retain the rows with at least one entry in each time frame.  \n",
    "1. Use the rows from the pivot table to filter the DataFrame. \n",
    "\n",
    "These steps are executed in the following cells."
   ]
  },
  {
   "cell_type": "code",
   "execution_count": null,
   "metadata": {
    "vscode": {
     "languageId": "python"
    }
   },
   "outputs": [],
   "source": [
    "pt_store_product = df.pivot_table(\n",
    "    index=[\"store_id\", \"product_id\"], columns=\"time\", values=\"price\", aggfunc=\"count\"\n",
    ")\n",
    "pt_store_product"
   ]
  },
  {
   "cell_type": "code",
   "execution_count": null,
   "metadata": {
    "vscode": {
     "languageId": "python"
    }
   },
   "outputs": [],
   "source": [
    "# select all rows that have values > 0 in all columns\n",
    "#  1. create a binary mask\n",
    "#  2. Use this mask for filtering the DataFrame\n",
    "mask = (pt_store_product > 0).all(axis=1)\n",
    "pt_store_product = pt_store_product[mask]\n",
    "pt_store_product"
   ]
  },
  {
   "cell_type": "code",
   "execution_count": null,
   "metadata": {
    "vscode": {
     "languageId": "python"
    }
   },
   "outputs": [],
   "source": [
    "# filter the data frame\n",
    "#   1. Set the index of the data frame to the rows used in the pivot table\n",
    "#   2. Use the loc function to filter the values\n",
    "filtered_df = df.reset_index()\n",
    "filtered_df = filtered_df.set_index([\"store_id\", \"product_id\"])\n",
    "filtered_df = filtered_df.loc[pt_store_product.index.values]\n",
    "filtered_df"
   ]
  },
  {
   "attachments": {},
   "cell_type": "markdown",
   "metadata": {},
   "source": [
    "Now the mean price of the products can be calculated. "
   ]
  },
  {
   "cell_type": "code",
   "execution_count": null,
   "metadata": {
    "vscode": {
     "languageId": "python"
    }
   },
   "outputs": [],
   "source": [
    "mean_prices = filtered_df.pivot_table(\n",
    "    index=[\"taxed\", \"store_type_str\"],\n",
    "    columns=\"time\",\n",
    "    values=\"price_per_oz\",\n",
    "    aggfunc=\"mean\",\n",
    ").round(3)\n",
    "\n",
    "mean_prices"
   ]
  },
  {
   "attachments": {},
   "cell_type": "markdown",
   "metadata": {},
   "source": [
    "## Calculate the change in the mean price\n",
    "\n",
    "In order to compare the groups the next step is to calculate the price changes for each store. \n",
    "\n",
    "### Exercise 3\n",
    "\n",
    "Add two now columns to the `mean_price` DataFrame. The column `d1` contains the price change from `DEC2014` to `JUN2015`. The column `d2` the price change from `DEC2014` to `MAR2016`.  \n"
   ]
  },
  {
   "cell_type": "code",
   "execution_count": null,
   "metadata": {
    "vscode": {
     "languageId": "python"
    }
   },
   "outputs": [],
   "source": []
  },
  {
   "attachments": {},
   "cell_type": "markdown",
   "metadata": {},
   "source": [
    "### Plot column chart of average price change\n",
    "\n",
    "Finally, a colum chart is used to display the average price change. The cells below create a bar chats comparing \n",
    "the price c"
   ]
  },
  {
   "cell_type": "code",
   "execution_count": null,
   "metadata": {
    "vscode": {
     "languageId": "python"
    }
   },
   "outputs": [],
   "source": [
    "mean_prices_jun15 = mean_prices.reset_index()\n",
    "mean_prices_jun15 = mean_prices_jun15.pivot(\n",
    "    index=\"store_type_str\", columns=\"taxed\", values=\"d1\"\n",
    ")\n",
    "mean_prices_jun15.plot.bar()"
   ]
  },
  {
   "cell_type": "code",
   "execution_count": null,
   "metadata": {
    "vscode": {
     "languageId": "python"
    }
   },
   "outputs": [],
   "source": [
    "mean_prices_mar16 = mean_prices.reset_index()\n",
    "mean_prices_mar16 = mean_prices_mar16.pivot(\n",
    "    index=\"store_type_str\", columns=\"taxed\", values=\"d1\"\n",
    ")\n",
    "ax = mean_prices_mar16.plot.bar()\n",
    "ax.set_title(\"Price Change from 12/2014 to 03/2016\")\n",
    "ax.set_xlabel(\"Store Type\")\n",
    "ax.set_ylabel(\"Price Change per Oz\")"
   ]
  },
  {
   "attachments": {},
   "cell_type": "markdown",
   "metadata": {},
   "source": [
    "## References\n",
    "\n",
    "- [pandas Documentation](https://pandas.pydata.org/docs/)\n",
    "- [pandas Cheat Sheet](https://pandas.pydata.org/Pandas_Cheat_Sheet.pdf)"
   ]
  }
 ],
 "metadata": {
  "kernelspec": {
   "display_name": "Python 3 (ipykernel)",
   "language": "python",
   "name": "python3"
  }
 },
 "nbformat": 4,
 "nbformat_minor": 2
}
