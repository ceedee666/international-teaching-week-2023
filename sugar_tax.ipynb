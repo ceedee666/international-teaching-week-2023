{
 "cells": [
  {
   "attachments": {},
   "cell_type": "markdown",
   "metadata": {},
   "source": [
    "# Measuring the effect of a sugar tax\n",
    "\n",
    "[Chapter 3](https://www.core-econ.org/espp/book/text/03.html) of the \n",
    "[Economy, Society, and Public Policy](https://www.core-econ.org/espp/index.html)\n",
    "suggests the project [measuring the effect of a sugar tax](http://www.core-econ.org/doing-economics/book/text/03-01.html) \n",
    "to deepen the knowledge of the topic. This notebooks analyses the data provided in the project using Python. In particular this notebook uses the project to\n",
    "provide a introduction to [pandas](https://pandas.pydata.org/), a:\n",
    "\n",
    "> a fast, powerful, flexible and easy to use open source data analysis and manipulation tool.\n",
    "\n",
    "To run this notebook in Google Colab click on the following batch: [![Open In Colab](https://colab.research.google.com/assets/colab-badge.svg)](https://colab.research.google.com/github/ceedee666/international-teaching-week-2023/blob/main/sugar_tax.ipynb)\n",
    "\n",
    "The data for this project has already been downloaded and stored in the [dataset_sugar_tax.xlsx](./data/dataset_sugar_tax.xlsx) file located in the [data](./data/) directory. \n",
    "\n",
    "### Installation\n",
    "\n",
    "- Install the required libraries installed by executing `pip3 install pandas openpyxl`\n",
    "- In an Jupyter Notebook the libraries can be installed using `!pip3 install pandas openpzxl`"
   ]
  },
  {
   "cell_type": "code",
   "execution_count": null,
   "metadata": {},
   "outputs": [],
   "source": [
    "!pip3 install pandas openpyxl"
   ]
  },
  {
   "attachments": {},
   "cell_type": "markdown",
   "metadata": {},
   "source": [
    "## Loading the dataset\n",
    "\n",
    "In [pandas](https://pandas.pydata.org/) data is stored in\n",
    "[`DataFrame`](https://pandas.pydata.org/docs/reference/api/pandas.DataFrame.html#pandas.DataFrame)s. A \n",
    "[`DataFrame`](https://pandas.pydata.org/docs/reference/api/pandas.DataFrame.html#pandas.DataFrame) represents tabular data\n",
    "like e.g. data from a spreadsheet or a database. \n",
    "\n",
    "The `read_excel` function can be used to read data form MS Excel files into\n",
    "a [`DataFrame`](https://pandas.pydata.org/docs/reference/api/pandas.DataFrame.html#pandas.DataFrame)."
   ]
  },
  {
   "cell_type": "code",
   "execution_count": null,
   "metadata": {},
   "outputs": [],
   "source": [
    "import pandas as pd\n",
    "\n",
    "df = pd.read_excel(\n",
    "    \"./international-teaching-week-2023/data/dataset_sugar_tax.xlsx\", sheet_name=\"Data\"\n",
    ")"
   ]
  },
  {
   "attachments": {},
   "cell_type": "markdown",
   "metadata": {},
   "source": [
    "A pandas [`DataFrame`](https://pandas.pydata.org/docs/reference/api/pandas.DataFrame.html#pandas.DataFrame) provides different \n",
    "methods for giving an overview of the data. One nice feature of Jupyter notebooks is, that \n",
    "pandas [`DataFrame`](https://pandas.pydata.org/docs/reference/api/pandas.DataFrame.html#pandas.DataFrame) are automatically \n",
    "shown in a readable format. Compare the result of the following two cells."
   ]
  },
  {
   "cell_type": "code",
   "execution_count": null,
   "metadata": {},
   "outputs": [],
   "source": [
    "df.head()"
   ]
  },
  {
   "cell_type": "code",
   "execution_count": null,
   "metadata": {},
   "outputs": [],
   "source": [
    "print(df.head())"
   ]
  },
  {
   "attachments": {},
   "cell_type": "markdown",
   "metadata": {},
   "source": [
    "It is also possible to show just the content of selected columns or just the entries with as certain value. "
   ]
  },
  {
   "cell_type": "code",
   "execution_count": null,
   "metadata": {},
   "outputs": [],
   "source": [
    "df[[\"price_per_oz\", \"price\"]]"
   ]
  },
  {
   "cell_type": "code",
   "execution_count": null,
   "metadata": {},
   "outputs": [],
   "source": [
    "df[df[\"store_id\"] == 16]"
   ]
  },
  {
   "cell_type": "code",
   "execution_count": null,
   "metadata": {},
   "outputs": [],
   "source": [
    "df[\"taxed\"] = df[\"taxed\"].map({0: \"not taxed\", 1: \"taxed\"})\n",
    "df[\"supp\"] = df[\"supp\"].map({0: \"Standard\", 1: \"Supplemental\"})\n",
    "df[\"store_type_str\"] = df[\"store_type\"].map(\n",
    "    {1: \"Large Supermarket\", 2: \"Small Supermarket\", 3: \"Pharmacy\", 4: \"Gas Station\"}\n",
    ")\n",
    "df[\"time\"] = df[\"time\"].replace({\"MAR2015\": \"MAR2016\"}).astype(\"category\")\n",
    "df[\"store_id\"] = df[\"store_id\"].astype(\"category\")\n",
    "df"
   ]
  },
  {
   "cell_type": "code",
   "execution_count": null,
   "metadata": {},
   "outputs": [],
   "source": [
    "num_stores = df[\"store_id\"].nunique()\n",
    "num_products = df[\"product_id\"].nunique()\n",
    "\n",
    "print(f\"Number of unique stores: {num_stores}\")\n",
    "print(f\"Number of unique products: {num_products}\")"
   ]
  },
  {
   "cell_type": "code",
   "execution_count": null,
   "metadata": {},
   "outputs": [],
   "source": [
    "freq_table_store_type = df.pivot_table(\n",
    "    index=[\"store_type_str\"],\n",
    "    columns=\"time\",\n",
    "    values=\"price\",\n",
    "    aggfunc=\"count\",\n",
    "    margins=True,\n",
    ")\n",
    "freq_table_store_type = freq_table_store_type.reindex(\n",
    "    [\"Large Supermarket\", \"Small Supermarket\", \"Pharmacy\", \"Gas Station\", \"All\"],\n",
    "    level=0,\n",
    ")\n",
    "\n",
    "print(freq_table_store_type)"
   ]
  },
  {
   "cell_type": "code",
   "execution_count": null,
   "metadata": {},
   "outputs": [],
   "source": [
    "freq_table_taxed = df.pivot_table(\n",
    "    index=[\"store_type_str\"],\n",
    "    columns=[\"time\", \"taxed\"],\n",
    "    values=\"price\",\n",
    "    aggfunc=\"count\",\n",
    "    margins=True,\n",
    ").reindex(\n",
    "    [\"Large Supermarket\", \"Small Supermarket\", \"Pharmacy\", \"Gas Station\", \"All\"],\n",
    "    level=0,\n",
    ")\n",
    "print(freq_table_taxed)"
   ]
  },
  {
   "cell_type": "code",
   "execution_count": null,
   "metadata": {},
   "outputs": [],
   "source": [
    "freq_table_products = df.pivot_table(\n",
    "    index=[\"type\"], columns=\"time\", values=\"price_per_oz\", aggfunc=\"count\", margins=True\n",
    ")\n",
    "print(freq_table_products)"
   ]
  },
  {
   "cell_type": "code",
   "execution_count": null,
   "metadata": {},
   "outputs": [],
   "source": [
    "fpt = df.pivot_table(\n",
    "    index=[\"store_id\", \"product_id\"], columns=\"time\", values=\"price\", aggfunc=\"count\"\n",
    ")\n",
    "mask = (fpt > 0).all(axis=1)\n",
    "fpt = fpt[mask]\n",
    "print(fpt.head())\n",
    "testdf = df.reset_index()\n",
    "testdf = testdf.set_index([\"store_id\", \"product_id\"])\n",
    "testdf"
   ]
  },
  {
   "cell_type": "code",
   "execution_count": null,
   "metadata": {},
   "outputs": [],
   "source": [
    "testdf = testdf.loc[fpt.index.values]\n",
    "testdf = testdf[testdf[\"supp\"] != \"Supplemental\"]\n",
    "testdf"
   ]
  },
  {
   "cell_type": "code",
   "execution_count": null,
   "metadata": {},
   "outputs": [],
   "source": [
    "testdf = testdf.reset_index()\n",
    "testdf"
   ]
  },
  {
   "cell_type": "code",
   "execution_count": null,
   "metadata": {},
   "outputs": [],
   "source": [
    "testdf[\"product_id\"].nunique()\n",
    "testdf.boxplot(column=\"price_per_oz\", by=\"product_id\")"
   ]
  },
  {
   "cell_type": "code",
   "execution_count": null,
   "metadata": {},
   "outputs": [],
   "source": [
    "new_pivot = testdf.pivot_table(\n",
    "    index=[\"taxed\", \"store_type_str\"],\n",
    "    columns=\"time\",\n",
    "    values=\"price_per_oz\",\n",
    "    aggfunc=\"mean\",\n",
    ").round(3)\n",
    "\n",
    "new_pivot"
   ]
  },
  {
   "cell_type": "code",
   "execution_count": null,
   "metadata": {},
   "outputs": [],
   "source": [
    "new_pivot[\"d1\"] = new_pivot[\"JUN2015\"] - new_pivot[\"DEC2014\"]\n",
    "new_pivot[\"d2\"] = new_pivot[\"MAR2016\"] - new_pivot[\"DEC2014\"]\n",
    "new_pivot"
   ]
  },
  {
   "cell_type": "code",
   "execution_count": null,
   "metadata": {},
   "outputs": [],
   "source": [
    "df123 = new_pivot\n",
    "df123 = df123.reset_index()\n",
    "df123 = df123.pivot(index=\"store_type_str\", columns=\"taxed\", values=\"d1\")\n",
    "df123.plot.bar()"
   ]
  },
  {
   "cell_type": "code",
   "execution_count": null,
   "metadata": {},
   "outputs": [],
   "source": [
    "df123 = new_pivot\n",
    "df123 = df123.reset_index()\n",
    "df123 = df123.pivot(index=\"store_type_str\", columns=\"taxed\", values=\"d2\")\n",
    "df123.plot.bar()"
   ]
  },
  {
   "attachments": {},
   "cell_type": "markdown",
   "metadata": {},
   "source": [
    "## References\n",
    "\n",
    "- [pandas Documentation](https://pandas.pydata.org/docs/)\n",
    "- [pandas Cheat Sheet](https://pandas.pydata.org/Pandas_Cheat_Sheet.pdf)"
   ]
  }
 ],
 "metadata": {
  "kernelspec": {
   "display_name": "Python 3 (ipykernel)",
   "language": "python",
   "name": "python3"
  },
  "language_info": {
   "codemirror_mode": {
    "name": "ipython",
    "version": 3
   },
   "file_extension": ".py",
   "mimetype": "text/x-python",
   "name": "python",
   "nbconvert_exporter": "python",
   "pygments_lexer": "ipython3",
   "version": "3.11.2"
  }
 },
 "nbformat": 4,
 "nbformat_minor": 2
}
