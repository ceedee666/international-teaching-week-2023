{
 "cells": [
  {
   "attachments": {},
   "cell_type": "markdown",
   "id": "55a7faa2-ae63-486f-ae61-4aee61fcba21",
   "metadata": {
    "tags": []
   },
   "source": [
    "# Introduction\n",
    "\n",
    "## About me\n",
    "\n",
    "### Prof. Dr. Christian Drumm\n",
    "- <img src=\"./imgs/christian.png\" width=\"250\" height=\"250\" />\n",
    "\n",
    "- Professor of Information Systems at the [FH Aachen](https://www.fh-aachen.de)\n",
    "- Founder / Coach at trans4mio GmbH\n",
    "- [SAP Champion](https://community.sap.com/programs/influencer-programs/champions) and Member of the [SAP DACH Academic Board](https://events.sap.com/de/sap-next-gen/en/contact)\n",
    "\n",
    "### Contact Details\n",
    "\n",
    "- Email: [drumm@fh-aachen.de](mailto:drumm@fh-aachen.de)\n",
    "- Mastodon 🐘: [@ceedee666](https://mastodon.social/@ceedee666)\n",
    "- [drumm.sh](https://drumm.sh)\n",
    "- [SAP Community](https://people.sap.com/christian.drumm)\n",
    "- [YouTube](https://www.youtube.com/c/christiandrumm)\n",
    "- [Github](https://github.com/ceedee666)\n",
    "\n",
    "### Short CV\n",
    "\n",
    "- 1997 – 2003: Computer science at the University Karlsruhe (now [KIT](https://www.kit.edu))\n",
    "- 2004 – 2008: Joint PhD program with SAP Research and University Karlsruhe \n",
    "- 2008 – 2010: Project manager at DSC GmbH\n",
    "- 2010 – 2017: Head of application development and consulting at FACTUR GmbH\n",
    "- since February 2017: Professor of Information Systems at the [FH Aachen](https://www.fh-aachen.de)\n",
    "\n",
    "## Prerequisites \n",
    "\n",
    "- Basic knowledge of [Python](https://python.org)\n",
    "    - Popular (more than 50k participants) [Python Course](https://open.sap.com/courses/python1)\n",
    "    "
   ]
  },
  {
   "cell_type": "markdown",
   "id": "ae22797d",
   "metadata": {},
   "source": []
  },
  {
   "cell_type": "markdown",
   "id": "9525d66a",
   "metadata": {},
   "source": []
  }
 ],
 "metadata": {
  "kernelspec": {
   "display_name": "Python 3",
   "language": "python",
   "name": "python3"
  },
  "language_info": {
   "codemirror_mode": {
    "name": "ipython",
    "version": 3
   },
   "file_extension": ".py",
   "mimetype": "text/x-python",
   "name": "python",
   "nbconvert_exporter": "python",
   "pygments_lexer": "ipython3",
   "version": "3.11.2"
  },
  "vscode": {
   "interpreter": {
    "hash": "b0fa6594d8f4cbf19f97940f81e996739fb7646882a419484c72d19e05852a7e"
   }
  }
 },
 "nbformat": 4,
 "nbformat_minor": 5
}
