{
 "cells": [
  {
   "cell_type": "markdown",
   "id": "55a7faa2-ae63-486f-ae61-4aee61fcba21",
   "metadata": {
    "tags": []
   },
   "source": [
    "# Introduction\n",
    "\n",
    "## About me\n",
    "\n",
    "\n",
    "\n",
    "## Prerequisites \n",
    "\n",
    "- Basic knowledge of [Python](https://python.org)\n",
    "    - Popular (more than 50k participants) [Python Course](https://open.sap.com/courses/python1)\n",
    "    "
   ]
  },
  {
   "cell_type": "code",
   "execution_count": null,
   "id": "34479ed5-ca30-479b-8b68-c1b184026498",
   "metadata": {},
   "outputs": [],
   "source": []
  }
 ],
 "metadata": {
  "kernelspec": {
   "display_name": "Python 3 (ipykernel)",
   "language": "python",
   "name": "python3"
  },
  "language_info": {
   "codemirror_mode": {
    "name": "ipython",
    "version": 3
   },
   "file_extension": ".py",
   "mimetype": "text/x-python",
   "name": "python",
   "nbconvert_exporter": "python",
   "pygments_lexer": "ipython3",
   "version": "3.11.2"
  }
 },
 "nbformat": 4,
 "nbformat_minor": 5
}
