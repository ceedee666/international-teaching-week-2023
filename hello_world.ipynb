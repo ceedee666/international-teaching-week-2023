{
 "cells": [
  {
   "cell_type": "markdown",
   "id": "5cc2541b-332e-4234-baa0-e701ec069d55",
   "metadata": {},
   "source": [
    "# Hello World Notebook\n",
    "\n",
    "The purpose of this notebook is to check if the development environment is working. If your environment is working correctly you should be able to execute the following cell and see and output.\n",
    "\n",
    "Alternatively, you can run this notebook in Google Colab by clicking on the following batch: [![Open In Colab](https://colab.research.google.com/assets/colab-badge.svg)](https://colab.research.google.com/github/ceedee666/international-teaching-week-2023/blob/main/hello_world.ipynb)"
   ]
  },
  {
   "cell_type": "code",
   "execution_count": null,
   "id": "91fea911-1fe5-4732-b69a-2cd15d93220f",
   "metadata": {
    "tags": []
   },
   "outputs": [],
   "source": [
    "def say_hello(name):\n",
    "    return \"Hello \" + name + \"!\"\n",
    "\n",
    "\n",
    "say_hello(\"XVIII Valencia Erasmus Week\")"
   ]
  }
 ],
 "metadata": {
  "kernelspec": {
   "display_name": "Python 3 (ipykernel)",
   "language": "python",
   "name": "python3"
  },
  "language_info": {
   "codemirror_mode": {
    "name": "ipython",
    "version": 3
   },
   "file_extension": ".py",
   "mimetype": "text/x-python",
   "name": "python",
   "nbconvert_exporter": "python",
   "pygments_lexer": "ipython3",
   "version": "3.11.2"
  }
 },
 "nbformat": 4,
 "nbformat_minor": 5
}
